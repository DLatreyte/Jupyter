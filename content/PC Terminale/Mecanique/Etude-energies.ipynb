{
 "cells": [
  {
   "cell_type": "code",
   "execution_count": null,
   "metadata": {},
   "outputs": [],
   "source": [
    "import piplite\n",
    "await piplite.install('seaborn')\n",
    "\n",
    "from matplotlib import pyplot as plt\n",
    "import seaborn as sns\n",
    "import numpy as np\n",
    "from scipy.optimize import curve_fit"
   ]
  },
  {
   "cell_type": "markdown",
   "metadata": {},
   "source": [
    "<center>\n",
    "<h1>Étude d'un mouvement et de l'évolution des différentes formes de l'énergie à l'aide de Python</h1>\n",
    "</center>\n",
    "\n",
    "> L'objectif de ce document est d'étudier le mouvement filmé d'une balle et d'établir l'évolution des différentes formes d'energies.\n",
    "\n",
    "## 1. Partie expérimentale\n",
    "\n",
    "- Charger la [vidéo](https://www.icloud.com/iclouddrive/0abbeE5zMjRBUFT3AcmJjy3fg#BallTossOut) dans le logiciel [Mecachrono](https://www.eleves.online/MecaChrono/index.php?A=5&B=0&C=0&D=15&E=16&H=-1823542497&lang=fr).\n",
    "- Sélectionner « 30 images par seconde » et « un échantillon toutes les 1 images ».\n",
    "- Placer l'origine et le repère à un endroit qui vous semblera opportun (on peut aussi ne pas modifier sa position).\n",
    "- Définir l'échelle en utilisant la règle à l'écran : **chaque segment vertical jaune mesure 10 cm de long. En selectionner 10.**\n",
    "- Cliquer sur les différentes positions de la balle.\n",
    "- Sélectionner l'onglet « Tableau de valeurs » et exporter les données sous une forme directement exploitable sous Python.\n",
    "\n",
    "## 2. Exploitation\n",
    "\n",
    "### 2.1. Évolution de l'altitude au cours du temps"
   ]
  },
  {
   "cell_type": "markdown",
   "metadata": {},
   "source": [
    "1. Insérer les listes contenant les dates $t$ et les valeurs des coordonnées $x$ et $y$."
   ]
  },
  {
   "cell_type": "code",
   "execution_count": null,
   "metadata": {},
   "outputs": [],
   "source": [
    "t = [ 0, 0.0333333, 0.0666666, 0.0999999, 0.133333, 0.166667, 0.2, 0.233333, 0.266666, 0.3, 0.333333, 0.366666, 0.4, 0.433333, 0.466666, 0.5, 0.533333, 0.566666, 0.599999, 0.633333, 0.666666, 0.7, 0.733333, 0.766667, 0.8, 0.833333]\n",
    "y = [0, 0.131579, 0.248684, 0.353947, 0.447368, 0.530263, 0.601316, 0.661842, 0.713158, 0.751316, 0.777632, 0.792105, 0.801316, 0.794737, 0.782895, 0.761842, 0.721053, 0.672368, 0.615789, 0.546053, 0.469737, 0.380263, 0.280263, 0.172368, 0.0513158, -0.0789474]"
   ]
  },
  {
   "cell_type": "markdown",
   "metadata": {},
   "source": [
    "2. On cherche à tracer l'évolution de la coordonnée verticale $y$ en fonction du temps $t$.    \n",
    "Compléter le code suivant."
   ]
  },
  {
   "cell_type": "code",
   "execution_count": null,
   "metadata": {},
   "outputs": [],
   "source": [
    "sns.set()\n",
    "plt.figure(figsize=(8, 6), dpi=100)\n",
    "plt.plot(t, y, 'o')\n",
    "plt.xlabel(\"$t$ (s)\")\n",
    "plt.ylabel(\"$y$ (m)\")\n",
    "plt.show()"
   ]
  },
  {
   "cell_type": "code",
   "execution_count": null,
   "metadata": {},
   "outputs": [],
   "source": [
    "sns.set()\n",
    "plt.figure(figsize=(8, 6), dpi=100)\n",
    "plt.plot(t, y, 'o')\n",
    "plt.xlabel(\"$t$ (s)\")\n",
    "plt.ylabel(\"$y$ (m)\")\n",
    "plt.show()"
   ]
  },
  {
   "cell_type": "markdown",
   "metadata": {},
   "source": [
    "3. Le mouvement vertical est-il : uniforme ? accéléré ? nul ?      \n",
    "Justifier la réponse."
   ]
  },
  {
   "cell_type": "markdown",
   "metadata": {},
   "source": [
    "### 2.2 Modélisation de l'évolution de l'altitude au cours du temps\n",
    "\n",
    "> Dans la suite de ce document on va être amené à dériver la fonction $y(t)$ afin de déterminer la composante verticale du vecteur vitesse $\\vec{v}$. *Comme la dérivation numérique est une opération qui introduit du « bruit »*, il est préférable de **modéliser** au préalable cette fonction.\n",
    "\n",
    "4. Compléter le code de la fonction `modele_y` suivante en fonction du comportement global de la fonction $y(t)$ constaté lors des questions précédentes."
   ]
  },
  {
   "cell_type": "code",
   "execution_count": null,
   "metadata": {},
   "outputs": [],
   "source": [
    "# Nouvelles dates pour l'affichage des grandeurs modélisées\n",
    "t_mod = np.linspace(min(t), max(t), 101)\n",
    "\n",
    "# Fonction modèle pour le comportement de y en fonction de t\n",
    "def modele_y(x, a, b, c):\n",
    "    return a * x**2 + b * x + c\n",
    "\n",
    "# Détermination des paramètres optimaux pour y en fonction de t\n",
    "popt, pcov = curve_fit(modele_y, t, y)\n",
    "a_ymod = popt[0]\n",
    "b_ymod = popt[1]\n",
    "c_ymod = popt[2]\n",
    "\n",
    "# Valeurs de y modélisées\n",
    "y_mod = modele_y(t_mod, a_ymod, b_ymod, c_ymod)"
   ]
  },
  {
   "cell_type": "markdown",
   "metadata": {},
   "source": [
    "5. Compléter le code suivant, l'objectif est d'afficher $y(t)$ et $y_{mod}(t_{mod})$ afin de vérifier la pertinence de la modélisation."
   ]
  },
  {
   "cell_type": "code",
   "execution_count": null,
   "metadata": {},
   "outputs": [],
   "source": [
    "sns.set()\n",
    "plt.figure(figsize=(8, 6), dpi=100)\n",
    "plt.plot(t, y, 'o', label=\"$y$\", color=\"green\")\n",
    "plt.plot(t_mod, y_mod, '-', label=\"$y_{mod}$\", color=\"green\")\n",
    "plt.xlabel(\"$t$ (s)\")\n",
    "plt.legend()\n",
    "plt.show()"
   ]
  },
  {
   "cell_type": "markdown",
   "metadata": {},
   "source": [
    "6. Le mouvement de la balle est-il une chute libre ?"
   ]
  },
  {
   "cell_type": "markdown",
   "metadata": {},
   "source": [
    "> Dans la suite de ce document, on effectuera le calcul de toutes les grandeurs à partir des fonctions $y_{mod}(t_{mod})$.\n",
    "\n",
    "### 2.3 Construction de la composante verticale de la vitesse \n",
    "\n",
    "7. Compléter le code suivant et répondre aux questions, l'objectif étant de construire la composante $v_y$ du vecteur vitesse $\\vec{v}$."
   ]
  },
  {
   "cell_type": "code",
   "execution_count": null,
   "metadata": {},
   "outputs": [],
   "source": [
    "vy = [0] * len(t_mod)  # Que fait-on ?\n",
    "\n",
    "for i in range(1, len(t_mod) - 1):   # Pourquoi cet intervalle ?\n",
    "    vy[i] = (y_mod[i + 1] - y_mod[i - 1]) / (t_mod[i + 1] - t_mod[i - 1])"
   ]
  },
  {
   "cell_type": "markdown",
   "metadata": {},
   "source": [
    "8. Compléter le code suivant. L'objectif est de tracer l'évolution au cours du temps de la composante $v_y$ du vecteur vitesse."
   ]
  },
  {
   "cell_type": "code",
   "execution_count": null,
   "metadata": {},
   "outputs": [],
   "source": [
    "sns.set()\n",
    "plt.figure(figsize=(8, 6), dpi=100)\n",
    "plt.plot(t_mod[1: -1], vy[1: -1], '-', label=\"$v_y$\")\n",
    "plt.xlabel(\"$t$ (s)\")\n",
    "plt.legend()\n",
    "plt.show()"
   ]
  },
  {
   "cell_type": "markdown",
   "metadata": {},
   "source": [
    "### 2.4. Construction des différentes formes d'énergies\n",
    "\n",
    "9. Compléter le code suivant. L'objectif est de construire la grandeur énergie cinétique massique (puisqu'on n'a pas la masse de la balle)."
   ]
  },
  {
   "cell_type": "code",
   "execution_count": null,
   "metadata": {},
   "outputs": [],
   "source": [
    "Ec = [0] * len(t_mod)  # Que fait-on ?\n",
    "\n",
    "for i in range(1, len(t_mod) - 1):   # Pourquoi cet intervalle ?\n",
    "    Ec[i] = 0.5 * vy[i] * vy[i]"
   ]
  },
  {
   "cell_type": "markdown",
   "metadata": {},
   "source": [
    "10. Compléter le code suivant, l'objectif est de construire la grandeur énergie potentielle de pesanteur massique (puisqu'on n'a pas la masse de la balle).    \n",
    "L'énergie potentielle de pesanteur est considérée nulle lorsque $y = 0$."
   ]
  },
  {
   "cell_type": "code",
   "execution_count": null,
   "metadata": {},
   "outputs": [],
   "source": [
    "Epp = [0] * len(t_mod)  # Que fait-on ?\n",
    "g = 10   # N/kg\n",
    "\n",
    "for i in range(1, len(t_mod) - 1):   # Pourquoi cet intervalle ?\n",
    "    Epp[i] = g * y_mod[i]"
   ]
  },
  {
   "cell_type": "markdown",
   "metadata": {},
   "source": [
    "11. Compléter le code suivant, l'objectif est de construire la grandeur énergie mécanique massique (puisqu'on n'a pas la masse de la balle)."
   ]
  },
  {
   "cell_type": "code",
   "execution_count": null,
   "metadata": {},
   "outputs": [],
   "source": [
    "Em = [0] * len(t_mod)  # Que fait-on ?\n",
    "\n",
    "for i in range(1, len(t_mod) - 1):   # Pourquoi cet intervalle ?\n",
    "    Em[i] = Ec[i] + Epp[i]"
   ]
  },
  {
   "cell_type": "markdown",
   "metadata": {},
   "source": [
    "12. Compléter le code suivant. L'objectif est de tracer l'évolution au cours du temps de toutes les formes d'énergie."
   ]
  },
  {
   "cell_type": "code",
   "execution_count": null,
   "metadata": {},
   "outputs": [],
   "source": [
    "sns.set()\n",
    "plt.figure(figsize=(8, 6), dpi=100)\n",
    "plt.plot(t_mod[1: -1], Ec[1: -1], '-', label=\"$E_c$\")\n",
    "plt.plot(t_mod[1: -1], Epp[1: -1], '-', label=\"$E_{pp}$\")\n",
    "plt.plot(t_mod[1: -1], Em[1: -1], '-', label=\"$E_m$\")\n",
    "plt.xlabel(\"$t$ (s)\")\n",
    "plt.legend()\n",
    "plt.show()"
   ]
  },
  {
   "cell_type": "markdown",
   "metadata": {},
   "source": [
    "13. Commenter l'évolution des différentes formes d'énergie."
   ]
  }
 ],
 "metadata": {
  "interpreter": {
   "hash": "140daeb0614e363086690a9bdb8e96ae6082eb9e92f55d33b86d544a8a58f997"
  },
  "kernelspec": {
   "display_name": "Python 3.9.7 ('base')",
   "language": "python",
   "name": "python3"
  },
  "language_info": {
   "codemirror_mode": {
    "name": "ipython",
    "version": 3
   },
   "file_extension": ".py",
   "mimetype": "text/x-python",
   "name": "python",
   "nbconvert_exporter": "python",
   "pygments_lexer": "ipython3",
   "version": "3.9.12"
  },
  "orig_nbformat": 4
 },
 "nbformat": 4,
 "nbformat_minor": 2
}
